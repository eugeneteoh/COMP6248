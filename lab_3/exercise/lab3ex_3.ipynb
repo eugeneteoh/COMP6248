{
 "metadata": {
  "language_info": {
   "codemirror_mode": {
    "name": "ipython",
    "version": 3
   },
   "file_extension": ".py",
   "mimetype": "text/x-python",
   "name": "python",
   "nbconvert_exporter": "python",
   "pygments_lexer": "ipython3",
   "version": "3.9.1"
  },
  "orig_nbformat": 2,
  "kernelspec": {
   "name": "python391jvsc74a57bd0b4eba54832caa312e872a59837a2001ff0db474df54dc33ac6c9fdf9b5b488fb",
   "display_name": "Python 3.9.1 64-bit ('ml': conda)"
  }
 },
 "nbformat": 4,
 "nbformat_minor": 2,
 "cells": [
  {
   "cell_type": "code",
   "execution_count": 1,
   "metadata": {},
   "outputs": [
    {
     "output_type": "execute_result",
     "data": {
      "text/plain": [
       "<torch._C.Generator at 0x7fe957073db0>"
      ]
     },
     "metadata": {},
     "execution_count": 1
    }
   ],
   "source": [
    "import torch\n",
    "from torch import optim\n",
    "\n",
    "import math\n",
    "import numpy as np\n",
    "import matplotlib.pyplot as plt\n",
    "\n",
    "torch.manual_seed(0)"
   ]
  },
  {
   "cell_type": "code",
   "execution_count": 2,
   "metadata": {},
   "outputs": [],
   "source": [
    "import torch\n",
    "import pandas as pd\n",
    "\n",
    "df = pd.read_csv('https://archive.ics.uci.edu/ml/machine-learning-databases/'+'/iris/iris.data', header=None)\n",
    "df = df.sample(frac=1, random_state=0) # shuffle\n",
    "\n",
    "df = df[df[4].isin(['Iris-virginica', 'Iris-versicolor'])]\n",
    "\n",
    "# add label indices column\n",
    "mapping = {k: v for v, k in enumerate(df[4].unique())}\n",
    "df[5] = (2 * df[4].map(mapping)) - 1 # labels in {-1, 1}\n",
    "\n",
    "# normalise data\n",
    "alldata = torch.tensor(df.iloc[:, [0, 1, 2, 3]].values, dtype=torch.float)\n",
    "alldata = (alldata - alldata.mean(dim=0)) / alldata.var(dim=0)\n",
    "\n",
    "# create datasets\n",
    "targets_tr = torch.tensor(df.iloc[:75, 5].values, dtype=torch.long)\n",
    "targets_va = torch.tensor(df.iloc[75:, 5]. values, dtype=torch.long)\n",
    "data_tr = alldata[:75]\n",
    "data_va = alldata[75:]"
   ]
  },
  {
   "cell_type": "code",
   "execution_count": 3,
   "metadata": {},
   "outputs": [],
   "source": [
    "def hinge_loss(y_pred, y_true):\n",
    "    # YOUR CODE HERE\n",
    "    yz = y_pred * y_true\n",
    "    return torch.max(torch.zeros_like(yz), 1 - yz).sum()\n",
    "\n",
    "\n",
    "def svm(x, w, b):\n",
    "    h = (w*x).sum(1) + b\n",
    "    return h"
   ]
  },
  {
   "cell_type": "code",
   "execution_count": 4,
   "metadata": {},
   "outputs": [],
   "source": [
    "from torch.utils import data"
   ]
  },
  {
   "cell_type": "code",
   "execution_count": 5,
   "metadata": {},
   "outputs": [],
   "source": [
    "NUM_EPOCHS = 100\n",
    "BATCH_SIZE = 25"
   ]
  },
  {
   "cell_type": "code",
   "execution_count": 6,
   "metadata": {},
   "outputs": [],
   "source": [
    "train = data.TensorDataset(data_tr, targets_tr)\n",
    "val = data.TensorDataset(data_va, targets_va)\n",
    "trainloader = data.DataLoader(train, batch_size=BATCH_SIZE, shuffle=True)\n",
    "valloader = data.DataLoader(val, batch_size=BATCH_SIZE, shuffle=True)"
   ]
  },
  {
   "cell_type": "code",
   "execution_count": 7,
   "metadata": {},
   "outputs": [],
   "source": [
    "def train_model(trainloader, valloader, w, b, optim_type=optim.SGD):\n",
    "    optim = optim_type([w, b], lr=0.01, weight_decay=0.0001)\n",
    "\n",
    "    train_loss = np.empty(NUM_EPOCHS*BATCH_SIZE)\n",
    "    val_loss = np.empty(NUM_EPOCHS*BATCH_SIZE)\n",
    "    i = 0\n",
    "    j = 0\n",
    "    for epoch in range(NUM_EPOCHS):\n",
    "        for X, y_true in trainloader:\n",
    "            optim.zero_grad()\n",
    "            y_pred = svm(X, w, b)\n",
    "            loss = hinge_loss(y_pred, y_true)\n",
    "            loss.backward()\n",
    "            optim.step()\n",
    "\n",
    "            train_loss[i] = loss\n",
    "            i += 1\n",
    "\n",
    "        with torch.no_grad():\n",
    "            for X, y_true in valloader:\n",
    "                y_pred = svm(X, w, b)\n",
    "                loss = hinge_loss(y_pred, y_true)\n",
    "                val_loss[epoch]\n",
    "\n",
    "                val_loss[j] = loss\n",
    "                j += 1\n",
    "\n",
    "    return w, b, train_loss, val_loss\n",
    "\n",
    "def accuracy(X, y, w, b):\n",
    "    correct = 0\n",
    "    for i in range(len(y)):\n",
    "        y_pred = svm(X[i], w, b)\n",
    "        y_pred[y_pred > 0] = 1\n",
    "        y_pred[y_pred < 0] = -1\n",
    "\n",
    "        if y_pred == y[i]: correct += 1\n",
    "    return float(correct)/len(y)\n"
   ]
  },
  {
   "cell_type": "code",
   "execution_count": 8,
   "metadata": {},
   "outputs": [],
   "source": [
    "N = 100 # number of times experiment is repeated"
   ]
  },
  {
   "cell_type": "code",
   "execution_count": 9,
   "metadata": {},
   "outputs": [],
   "source": [
    "val_acc_sgd = np.empty(N)\n",
    "for i in range(N):\n",
    "    w_sgd = torch.randn(1, data_tr.shape[1], requires_grad=True)\n",
    "    b_sgd = torch.randn(1, requires_grad=True)\n",
    "\n",
    "    w_sgd, b_sgd, train_loss_sgd, val_loss_sgd = train_model(trainloader, valloader, w_sgd, b_sgd, optim_type=optim.SGD)\n",
    "\n",
    "    val_acc_sgd[i] = accuracy(data_va, targets_va, w_sgd, b_sgd)\n"
   ]
  },
  {
   "cell_type": "code",
   "execution_count": 10,
   "metadata": {},
   "outputs": [
    {
     "output_type": "execute_result",
     "data": {
      "text/plain": [
       "array([0.88, 0.88, 0.88, 0.88, 0.92, 0.92, 0.88, 0.92, 0.88, 0.88, 0.92,\n",
       "       0.92, 0.88, 0.92, 0.88, 0.92, 0.92, 0.92, 0.88, 0.92, 0.88, 0.88,\n",
       "       0.92, 0.88, 0.88, 0.92, 0.92, 0.92, 0.92, 0.92, 0.92, 0.92, 0.88,\n",
       "       0.92, 0.92, 0.92, 0.92, 0.92, 0.88, 0.88, 0.92, 0.92, 0.92, 0.88,\n",
       "       0.88, 0.92, 0.92, 0.92, 0.88, 0.92, 0.88, 0.92, 0.88, 0.92, 0.88,\n",
       "       0.88, 0.88, 0.92, 0.88, 0.92, 0.88, 0.92, 0.88, 0.88, 0.88, 0.92,\n",
       "       0.92, 0.88, 0.88, 0.92, 0.88, 0.92, 0.88, 0.88, 0.92, 0.92, 0.92,\n",
       "       0.88, 0.92, 0.88, 0.88, 0.92, 0.92, 0.92, 0.92, 0.92, 0.88, 0.92,\n",
       "       0.88, 0.88, 0.88, 0.88, 0.88, 0.92, 0.92, 0.88, 0.88, 0.88, 0.88,\n",
       "       0.92])"
      ]
     },
     "metadata": {},
     "execution_count": 10
    }
   ],
   "source": [
    "val_acc_sgd"
   ]
  },
  {
   "cell_type": "code",
   "execution_count": 11,
   "metadata": {},
   "outputs": [
    {
     "output_type": "execute_result",
     "data": {
      "text/plain": [
       "0.9007999999999999"
      ]
     },
     "metadata": {},
     "execution_count": 11
    }
   ],
   "source": [
    "val_acc_sgd.mean()"
   ]
  },
  {
   "cell_type": "code",
   "execution_count": 12,
   "metadata": {},
   "outputs": [],
   "source": [
    "val_acc_adam = np.empty(N)\n",
    "for i in range(N):\n",
    "    w_adam = torch.randn(1, data_tr.shape[1], requires_grad=True)\n",
    "    b_adam = torch.randn(1, requires_grad=True)\n",
    "\n",
    "    w_adam, b_adam, train_loss_adam, val_loss_adam = train_model(trainloader, valloader, w_adam, b_adam, optim_type=optim.Adam)\n",
    "\n",
    "    val_acc_adam[i] = accuracy(data_va, targets_va, w_adam, b_adam)"
   ]
  },
  {
   "cell_type": "code",
   "execution_count": 14,
   "metadata": {},
   "outputs": [
    {
     "output_type": "execute_result",
     "data": {
      "text/plain": [
       "0.8912"
      ]
     },
     "metadata": {},
     "execution_count": 14
    }
   ],
   "source": [
    "val_acc_adam.mean()"
   ]
  },
  {
   "cell_type": "code",
   "execution_count": 26,
   "metadata": {},
   "outputs": [],
   "source": [
    "df_accs = pd.DataFrame({\"Mean\": [val_acc_sgd.mean(), val_acc_adam.mean()], \"Variance\": [val_acc_sgd.var(), val_acc_adam.var()]}, index=['SGD', 'Adam'])"
   ]
  },
  {
   "cell_type": "code",
   "execution_count": 28,
   "metadata": {},
   "outputs": [
    {
     "output_type": "execute_result",
     "data": {
      "text/plain": [
       "        Mean  Variance\n",
       "SGD   0.9008  0.000399\n",
       "Adam  0.8912  0.000995"
      ],
      "text/html": "<div>\n<style scoped>\n    .dataframe tbody tr th:only-of-type {\n        vertical-align: middle;\n    }\n\n    .dataframe tbody tr th {\n        vertical-align: top;\n    }\n\n    .dataframe thead th {\n        text-align: right;\n    }\n</style>\n<table border=\"1\" class=\"dataframe\">\n  <thead>\n    <tr style=\"text-align: right;\">\n      <th></th>\n      <th>Mean</th>\n      <th>Variance</th>\n    </tr>\n  </thead>\n  <tbody>\n    <tr>\n      <th>SGD</th>\n      <td>0.9008</td>\n      <td>0.000399</td>\n    </tr>\n    <tr>\n      <th>Adam</th>\n      <td>0.8912</td>\n      <td>0.000995</td>\n    </tr>\n  </tbody>\n</table>\n</div>"
     },
     "metadata": {},
     "execution_count": 28
    }
   ],
   "source": [
    "df_accs"
   ]
  },
  {
   "cell_type": "code",
   "execution_count": 33,
   "metadata": {},
   "outputs": [
    {
     "output_type": "stream",
     "name": "stdout",
     "text": [
      "\\begin{table}\n\\centering\n\\caption{Accuracy for 50 repeated experiemtns}\n\\label{tab:acc}\n\\begin{tabular}{lrr}\n\\toprule\n{} &    Mean &  Variance \\\\\n\\midrule\nSGD  &  0.9008 &  0.000399 \\\\\nAdam &  0.8912 &  0.000995 \\\\\n\\bottomrule\n\\end{tabular}\n\\end{table}\n\n"
     ]
    }
   ],
   "source": [
    "print(df_accs.to_latex(caption=\"Accuracy for 50 repeated experiemtns\", label=\"tab:acc\"))"
   ]
  },
  {
   "cell_type": "code",
   "execution_count": null,
   "metadata": {},
   "outputs": [],
   "source": []
  }
 ]
}