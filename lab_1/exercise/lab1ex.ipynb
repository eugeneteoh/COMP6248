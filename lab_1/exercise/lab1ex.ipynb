{
 "metadata": {
  "language_info": {
   "codemirror_mode": {
    "name": "ipython",
    "version": 3
   },
   "file_extension": ".py",
   "mimetype": "text/x-python",
   "name": "python",
   "nbconvert_exporter": "python",
   "pygments_lexer": "ipython3",
   "version": "3.9.1-final"
  },
  "orig_nbformat": 2,
  "kernelspec": {
   "name": "python3",
   "display_name": "Python 3.9.1 64-bit",
   "metadata": {
    "interpreter": {
     "hash": "b4eba54832caa312e872a59837a2001ff0db474df54dc33ac6c9fdf9b5b488fb"
    }
   }
  }
 },
 "nbformat": 4,
 "nbformat_minor": 2,
 "cells": [
  {
   "cell_type": "code",
   "execution_count": 1,
   "metadata": {},
   "outputs": [],
   "source": [
    "import torch\n",
    "from torch.nn.functional import mse_loss\n",
    "\n",
    "from sgd_factorise import sgd_factorise, sgd_factorise_masked"
   ]
  },
  {
   "source": [
    "# Task 1.2"
   ],
   "cell_type": "markdown",
   "metadata": {}
  },
  {
   "cell_type": "code",
   "execution_count": 2,
   "metadata": {},
   "outputs": [
    {
     "output_type": "stream",
     "name": "stdout",
     "text": [
      "MSE Loss: 0.12194402515888214\n"
     ]
    }
   ],
   "source": [
    "A = torch.tensor([[0.3374, 0.6005, 0.1735], [3.3359, 0.0492, 1.8374], [2.9407, 0.5301, 2.2620]])\n",
    "U, V = sgd_factorise(A, 2)\n",
    "loss = mse_loss(A, U@V.T, reduction='sum')\n",
    "print(f'MSE Loss: {loss}')"
   ]
  },
  {
   "cell_type": "code",
   "execution_count": 3,
   "metadata": {},
   "outputs": [
    {
     "output_type": "stream",
     "name": "stdout",
     "text": [
      "tensor([[ 0.6356, -0.1783],\n        [ 0.3861,  1.5653],\n        [ 1.0763,  1.1266]])\ntensor([[ 0.8717,  1.8626],\n        [ 0.7599, -0.1943],\n        [ 0.8606,  1.0481]])\n"
     ]
    }
   ],
   "source": [
    "print(U)\n",
    "print(V)"
   ]
  },
  {
   "source": [
    "# Task 2.1"
   ],
   "cell_type": "markdown",
   "metadata": {}
  },
  {
   "cell_type": "code",
   "execution_count": 4,
   "metadata": {},
   "outputs": [
    {
     "output_type": "stream",
     "name": "stdout",
     "text": [
      "tensor([[-0.0801, -0.7448,  0.6625],\n        [-0.7103,  0.5090,  0.4863],\n        [-0.6994, -0.4316, -0.5697]]) tensor([5.3339, 0.6959, 0.3492]) tensor([[-0.8349,  0.2548,  0.4879],\n        [-0.0851, -0.9355,  0.3430],\n        [-0.5439, -0.2448, -0.8027]])\n"
     ]
    }
   ],
   "source": [
    "U2, S2, V2 = torch.svd(A)\n",
    "print(U2, S2, V2)"
   ]
  },
  {
   "cell_type": "code",
   "execution_count": 5,
   "metadata": {},
   "outputs": [
    {
     "output_type": "stream",
     "name": "stdout",
     "text": [
      "tensor([5.3339, 0.6959, 0.0000])\n"
     ]
    }
   ],
   "source": [
    "# Set the last singular value to zero\n",
    "S2[-1] = 0\n",
    "print(S2)"
   ]
  },
  {
   "cell_type": "code",
   "execution_count": 6,
   "metadata": {},
   "outputs": [
    {
     "output_type": "stream",
     "name": "stdout",
     "text": [
      "tensor([[ 0.2245,  0.5212,  0.3592],\n        [ 3.2530, -0.0090,  1.9737],\n        [ 3.0378,  0.5983,  2.1023]])\n"
     ]
    }
   ],
   "source": [
    "# A reconstruction\n",
    "A2 = U2 @ torch.diag(S2) @ V2.T\n",
    "print(A2)"
   ]
  },
  {
   "cell_type": "code",
   "execution_count": 7,
   "metadata": {},
   "outputs": [
    {
     "output_type": "stream",
     "name": "stdout",
     "text": [
      "MSE Loss: 0.12191088497638702\n"
     ]
    }
   ],
   "source": [
    "loss2 = mse_loss(A, A2, reduction='sum')\n",
    "print(f'MSE Loss: {loss2}')"
   ]
  },
  {
   "source": [
    "# Task 3.2"
   ],
   "cell_type": "markdown",
   "metadata": {}
  },
  {
   "cell_type": "code",
   "execution_count": 8,
   "metadata": {},
   "outputs": [
    {
     "output_type": "stream",
     "name": "stdout",
     "text": [
      "tensor([[1, 1, 1],\n        [0, 1, 1],\n        [1, 0, 1]])\n"
     ]
    }
   ],
   "source": [
    "M = torch.tensor([[1, 1, 1], [0, 1, 1], [1, 0, 1]]) # mask\n",
    "print(M)"
   ]
  },
  {
   "cell_type": "code",
   "execution_count": 9,
   "metadata": {
    "tags": []
   },
   "outputs": [],
   "source": [
    "U3, V3 = sgd_factorise_masked(A, M, 2)"
   ]
  },
  {
   "cell_type": "code",
   "execution_count": 10,
   "metadata": {},
   "outputs": [
    {
     "output_type": "stream",
     "name": "stdout",
     "text": [
      "MSE Loss: 1.119443416595459\n"
     ]
    }
   ],
   "source": [
    "loss3 = mse_loss(A, U3@V3.T, reduction='sum')\n",
    "print(f'MSE Loss: {loss3}')"
   ]
  }
 ]
}