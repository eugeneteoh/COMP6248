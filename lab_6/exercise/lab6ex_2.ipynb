{
  "nbformat": 4,
  "nbformat_minor": 0,
  "metadata": {
    "colab": {
      "name": "Untitled9.ipynb",
      "provenance": [],
      "authorship_tag": "ABX9TyM+nAgOYKAjMrjSCoHc+Wv8",
      "include_colab_link": true
    },
    "kernelspec": {
      "name": "python3",
      "display_name": "Python 3"
    },
    "language_info": {
      "name": "python"
    }
  },
  "cells": [
    {
      "cell_type": "markdown",
      "metadata": {
        "id": "view-in-github",
        "colab_type": "text"
      },
      "source": [
        "<a href=\"https://colab.research.google.com/github/eugeneteoh/COMP6248-Deep-Learning/blob/master/lab_6/exercise/lab6ex_2.ipynb\" target=\"_parent\"><img src=\"https://colab.research.google.com/assets/colab-badge.svg\" alt=\"Open In Colab\"/></a>"
      ]
    },
    {
      "cell_type": "code",
      "metadata": {
        "id": "czIQJnp2T7ds"
      },
      "source": [
        "try:\n",
        "    import pytorch_lightning as pl\n",
        "except:\n",
        "    !pip install pytorch-lightning\n",
        "    import pytorch_lightning as pl\n",
        "\n",
        "import torch\n",
        "import torch.nn as nn\n",
        "import numpy as np\n",
        "from os.path import exists"
      ],
      "execution_count": 2,
      "outputs": []
    },
    {
      "cell_type": "code",
      "metadata": {
        "id": "JO0ywvWpU4Dn"
      },
      "source": [
        "from sklearn.svm import SVC\n",
        "import numpy as np\n",
        "\n",
        "if not exists('training_features.npy'):\n",
        "    !wget -O Resnet50Features.zip https://artist-cloud.ecs.soton.ac.uk/index.php/s/P68OB07DquOwSR7/download\n",
        "    !unzip Resnet50Features.zip\n",
        "\n",
        "training_features = np.load('training_features.npy')\n",
        "training_labels = np.load('training_labels.npy')\n",
        "\n",
        "valid_features = np.load('valid_features.npy')\n",
        "valid_labels = np.load('valid_labels.npy')\n",
        "\n",
        "testing_features = np.load('testing_features.npy')\n",
        "testing_labels = np.load('testing_labels.npy')\n",
        "\n"
      ],
      "execution_count": 3,
      "outputs": []
    },
    {
      "cell_type": "code",
      "metadata": {
        "colab": {
          "base_uri": "https://localhost:8080/"
        },
        "id": "7UgaOuynVqT5",
        "outputId": "e6ad66e4-5691-45ed-f267-7da7b6d77b10"
      },
      "source": [
        "clf = SVC()\n",
        "%timeit -n1 -r1 clf.fit(training_features, training_labels)"
      ],
      "execution_count": 4,
      "outputs": [
        {
          "output_type": "stream",
          "text": [
            "1 loop, best of 1: 18.1 s per loop\n"
          ],
          "name": "stdout"
        }
      ]
    },
    {
      "cell_type": "code",
      "metadata": {
        "id": "BnJNCy6OVtVJ"
      },
      "source": [
        "preds = clf.predict(testing_features)"
      ],
      "execution_count": 5,
      "outputs": []
    },
    {
      "cell_type": "code",
      "metadata": {
        "id": "aSJSWeiGWrjB"
      },
      "source": [
        "class_labels = ['Alilaguna', 'Ambulanza', 'Barchino', 'Gondola', 'Lanciafino10m', 'Motobarca', 'Motopontonerettangolare', 'MotoscafoACTV', 'Mototopo', 'Patanella', 'Polizia', 'Raccoltarifiuti', 'Sandoloaremi', 'Topa', 'VaporettoACTV', 'Water']"
      ],
      "execution_count": 10,
      "outputs": []
    },
    {
      "cell_type": "code",
      "metadata": {
        "colab": {
          "base_uri": "https://localhost:8080/"
        },
        "id": "mTTzMokiU7AS",
        "outputId": "c578660c-9432-4300-b063-928d2b53a8b7"
      },
      "source": [
        "from sklearn import metrics\n",
        "import pandas as pd\n",
        "df_metrics = metrics.classification_report(testing_labels, preds, output_dict=True)\n",
        "df_metrics = pd.DataFrame(df_metrics).T\n",
        "df_metrics = df_metrics.round(3)"
      ],
      "execution_count": 26,
      "outputs": [
        {
          "output_type": "stream",
          "text": [
            "/usr/local/lib/python3.7/dist-packages/sklearn/metrics/_classification.py:1272: UndefinedMetricWarning: Precision and F-score are ill-defined and being set to 0.0 in labels with no predicted samples. Use `zero_division` parameter to control this behavior.\n",
            "  _warn_prf(average, modifier, msg_start, len(result))\n"
          ],
          "name": "stderr"
        }
      ]
    },
    {
      "cell_type": "code",
      "metadata": {
        "colab": {
          "base_uri": "https://localhost:8080/"
        },
        "id": "3KnjtYK3ZoSi",
        "outputId": "7a2eaec4-130b-43fb-9a7c-5e2567f95d2e"
      },
      "source": [
        "print(df_metrics.to_latex(caption='Model 2 classification report.', label='tab:model2-class-report'))"
      ],
      "execution_count": 27,
      "outputs": [
        {
          "output_type": "stream",
          "text": [
            "\\begin{table}\n",
            "\\centering\n",
            "\\caption{Model 2 classification report.}\n",
            "\\label{tab:model2-class-report}\n",
            "\\begin{tabular}{lrrrr}\n",
            "\\toprule\n",
            "{} &  precision &  recall &  f1-score &   support \\\\\n",
            "\\midrule\n",
            "0            &      0.905 &   1.000 &     0.950 &    19.000 \\\\\n",
            "1            &      0.818 &   0.818 &     0.818 &    22.000 \\\\\n",
            "2            &      0.765 &   0.255 &     0.382 &    51.000 \\\\\n",
            "3            &      1.000 &   0.667 &     0.800 &     3.000 \\\\\n",
            "4            &      0.000 &   0.000 &     0.000 &     7.000 \\\\\n",
            "5            &      0.818 &   0.305 &     0.444 &    59.000 \\\\\n",
            "6            &      1.000 &   1.000 &     1.000 &     3.000 \\\\\n",
            "7            &      0.000 &   0.000 &     0.000 &     1.000 \\\\\n",
            "8            &      0.818 &   0.985 &     0.894 &   274.000 \\\\\n",
            "9            &      0.411 &   0.838 &     0.551 &    74.000 \\\\\n",
            "10           &      0.667 &   0.133 &     0.222 &    15.000 \\\\\n",
            "11           &      1.000 &   0.737 &     0.848 &    19.000 \\\\\n",
            "12           &      0.000 &   0.000 &     0.000 &     3.000 \\\\\n",
            "13           &      0.000 &   0.000 &     0.000 &    29.000 \\\\\n",
            "14           &      0.991 &   1.000 &     0.995 &   325.000 \\\\\n",
            "15           &      0.993 &   0.971 &     0.982 &   420.000 \\\\\n",
            "accuracy     &      0.872 &   0.872 &     0.872 &     0.872 \\\\\n",
            "macro avg    &      0.637 &   0.544 &     0.556 &  1324.000 \\\\\n",
            "weighted avg &      0.869 &   0.872 &     0.852 &  1324.000 \\\\\n",
            "\\bottomrule\n",
            "\\end{tabular}\n",
            "\\end{table}\n",
            "\n"
          ],
          "name": "stdout"
        }
      ]
    },
    {
      "cell_type": "code",
      "metadata": {
        "colab": {
          "base_uri": "https://localhost:8080/",
          "height": 108
        },
        "id": "1GFN6mcNay3C",
        "outputId": "90ad5ee2-4c5b-4462-ba82-e9fcd88fcfb0"
      },
      "source": [
        "df_runtime = pd.DataFrame({'Runtime': ['18.1s', '13m 52s']}, index=[1, 2])\n",
        "df_runtime"
      ],
      "execution_count": 23,
      "outputs": [
        {
          "output_type": "execute_result",
          "data": {
            "text/html": [
              "<div>\n",
              "<style scoped>\n",
              "    .dataframe tbody tr th:only-of-type {\n",
              "        vertical-align: middle;\n",
              "    }\n",
              "\n",
              "    .dataframe tbody tr th {\n",
              "        vertical-align: top;\n",
              "    }\n",
              "\n",
              "    .dataframe thead th {\n",
              "        text-align: right;\n",
              "    }\n",
              "</style>\n",
              "<table border=\"1\" class=\"dataframe\">\n",
              "  <thead>\n",
              "    <tr style=\"text-align: right;\">\n",
              "      <th></th>\n",
              "      <th>Runtime</th>\n",
              "    </tr>\n",
              "  </thead>\n",
              "  <tbody>\n",
              "    <tr>\n",
              "      <th>1</th>\n",
              "      <td>18.1s</td>\n",
              "    </tr>\n",
              "    <tr>\n",
              "      <th>2</th>\n",
              "      <td>13m 52s</td>\n",
              "    </tr>\n",
              "  </tbody>\n",
              "</table>\n",
              "</div>"
            ],
            "text/plain": [
              "   Runtime\n",
              "1    18.1s\n",
              "2  13m 52s"
            ]
          },
          "metadata": {
            "tags": []
          },
          "execution_count": 23
        }
      ]
    },
    {
      "cell_type": "code",
      "metadata": {
        "colab": {
          "base_uri": "https://localhost:8080/"
        },
        "id": "o_YE1TGztBkD",
        "outputId": "ecd52870-0738-46e9-cb86-e3d00601beb9"
      },
      "source": [
        "print(df_runtime.to_latex(caption='Training time.', label='tab:runtime'))"
      ],
      "execution_count": 25,
      "outputs": [
        {
          "output_type": "stream",
          "text": [
            "\\begin{table}\n",
            "\\centering\n",
            "\\caption{Training time.}\n",
            "\\label{tab:runtime}\n",
            "\\begin{tabular}{ll}\n",
            "\\toprule\n",
            "{} &  Runtime \\\\\n",
            "\\midrule\n",
            "1 &    18.1s \\\\\n",
            "2 &  13m 52s \\\\\n",
            "\\bottomrule\n",
            "\\end{tabular}\n",
            "\\end{table}\n",
            "\n"
          ],
          "name": "stdout"
        }
      ]
    },
    {
      "cell_type": "code",
      "metadata": {
        "id": "dFcTuETutIAA"
      },
      "source": [
        ""
      ],
      "execution_count": null,
      "outputs": []
    }
  ]
}