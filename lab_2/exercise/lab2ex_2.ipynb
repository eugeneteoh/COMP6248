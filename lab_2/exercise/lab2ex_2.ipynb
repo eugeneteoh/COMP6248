{
 "metadata": {
  "language_info": {
   "codemirror_mode": {
    "name": "ipython",
    "version": 3
   },
   "file_extension": ".py",
   "mimetype": "text/x-python",
   "name": "python",
   "nbconvert_exporter": "python",
   "pygments_lexer": "ipython3",
   "version": "3.9.1-final"
  },
  "orig_nbformat": 2,
  "kernelspec": {
   "name": "python3",
   "display_name": "Python 3.9.1 64-bit ('ml': conda)",
   "metadata": {
    "interpreter": {
     "hash": "b4eba54832caa312e872a59837a2001ff0db474df54dc33ac6c9fdf9b5b488fb"
    }
   }
  }
 },
 "nbformat": 4,
 "nbformat_minor": 2,
 "cells": [
  {
   "cell_type": "code",
   "execution_count": 5,
   "metadata": {},
   "outputs": [],
   "source": [
    "import pandas as pd\n",
    "import torch\n",
    "\n",
    "df = pd.read_csv('iris.data', header=None)\n",
    "df = df.sample(frac=1) #shuffle\n",
    "\n",
    "# add label indices column\n",
    "mapping = {k: v for v, k in enumerate(df [4]. unique())}\n",
    "df[5] = df[4].map(mapping)\n",
    "\n",
    "# normalise data\n",
    "alldata = torch.tensor(df.iloc[:, [0,1,2,3]].values, dtype=torch.float)\n",
    "alldata = (alldata - alldata.mean(dim=0)) / alldata.var(dim=0)\n",
    "# create datasets\n",
    "targets_tr = torch.tensor(df.iloc[:100, 5].values, dtype=torch.long)\n",
    "targets_va = torch.tensor(df.iloc[100:, 5].values, dtype=torch.long)\n",
    "data_tr = alldata [:100]\n",
    "data_va = alldata [100:]\n"
   ]
  },
  {
   "source": [
    "# Task 2.1"
   ],
   "cell_type": "markdown",
   "metadata": {}
  },
  {
   "cell_type": "code",
   "execution_count": null,
   "metadata": {},
   "outputs": [],
   "source": []
  }
 ]
}